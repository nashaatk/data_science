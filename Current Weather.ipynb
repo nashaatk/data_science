{
 "cells": [
  {
   "cell_type": "code",
   "execution_count": 1,
   "id": "74d2d724",
   "metadata": {},
   "outputs": [],
   "source": [
    "import sqlalchemy as sa\n",
    "import pandas as pd\n",
    "import requests, json\n",
    "import datetime as dt"
   ]
  },
  {
   "cell_type": "code",
   "execution_count": 2,
   "id": "b0de6ac8",
   "metadata": {},
   "outputs": [
    {
     "name": "stdout",
     "output_type": "stream",
     "text": [
      "Enter the city name: Ottawa\n"
     ]
    }
   ],
   "source": [
    "BASE_URL='https://api.openweathermap.org/data/2.5/weather?'\n",
    "API_KEY='2e97c849f19a87086e65d9add05608c6'\n",
    "#Asking user to input the name of they want current weather info for\n",
    "CITY=input(\"Enter the city name: \") \n",
    "\n",
    "url=BASE_URL + 'appid='+ API_KEY + \"&q=\" + CITY\n",
    "\n",
    "data=requests.get(url)\n"
   ]
  },
  {
   "cell_type": "code",
   "execution_count": 3,
   "id": "10e6d011",
   "metadata": {},
   "outputs": [
    {
     "data": {
      "text/plain": [
       "<Response [200]>"
      ]
     },
     "execution_count": 3,
     "metadata": {},
     "output_type": "execute_result"
    }
   ],
   "source": [
    "data"
   ]
  },
  {
   "cell_type": "code",
   "execution_count": 4,
   "id": "10c78cc3",
   "metadata": {},
   "outputs": [
    {
     "data": {
      "text/plain": [
       "{'coord': {'lon': -75.6981, 'lat': 45.4112},\n",
       " 'weather': [{'id': 802,\n",
       "   'main': 'Clouds',\n",
       "   'description': 'scattered clouds',\n",
       "   'icon': '03d'}],\n",
       " 'base': 'stations',\n",
       " 'main': {'temp': 296.33,\n",
       "  'feels_like': 296.22,\n",
       "  'temp_min': 295.31,\n",
       "  'temp_max': 297.13,\n",
       "  'pressure': 1008,\n",
       "  'humidity': 58},\n",
       " 'visibility': 10000,\n",
       " 'wind': {'speed': 5.66, 'deg': 270},\n",
       " 'clouds': {'all': 40},\n",
       " 'dt': 1691790427,\n",
       " 'sys': {'type': 2,\n",
       "  'id': 2005537,\n",
       "  'country': 'CA',\n",
       "  'sunrise': 1691747912,\n",
       "  'sunset': 1691799460},\n",
       " 'timezone': -14400,\n",
       " 'id': 6094817,\n",
       " 'name': 'Ottawa',\n",
       " 'cod': 200}"
      ]
     },
     "execution_count": 4,
     "metadata": {},
     "output_type": "execute_result"
    }
   ],
   "source": [
    "data=data.json()\n",
    "data"
   ]
  },
  {
   "cell_type": "markdown",
   "id": "2983e204",
   "metadata": {},
   "source": [
    "Checking to see what information could be relevant for current weather data"
   ]
  },
  {
   "cell_type": "code",
   "execution_count": 5,
   "id": "02bdd0eb",
   "metadata": {},
   "outputs": [
    {
     "data": {
      "text/plain": [
       "{'temp': 296.33,\n",
       " 'feels_like': 296.22,\n",
       " 'temp_min': 295.31,\n",
       " 'temp_max': 297.13,\n",
       " 'pressure': 1008,\n",
       " 'humidity': 58}"
      ]
     },
     "execution_count": 5,
     "metadata": {},
     "output_type": "execute_result"
    }
   ],
   "source": [
    "data['main']"
   ]
  },
  {
   "cell_type": "code",
   "execution_count": 6,
   "id": "b18102c2",
   "metadata": {},
   "outputs": [],
   "source": [
    "#Converting kelvin to celsius:\n",
    "\n",
    "def kelvin_to_celsius(kelvin):\n",
    "    celsius=kelvin-273.15\n",
    "    return celsius\n"
   ]
  },
  {
   "cell_type": "markdown",
   "id": "832840f7",
   "metadata": {},
   "source": [
    "We first need to obtain current date time for quarry date and time columns. Then we chose name of city, country of city, temp, feels like, wind speed, humidity, sunrise time and sunset time as relevant columns for the current weather table."
   ]
  },
  {
   "cell_type": "code",
   "execution_count": 7,
   "id": "026e60a2",
   "metadata": {},
   "outputs": [],
   "source": [
    "current_date_time = dt.datetime.now()\n",
    "current_date_formatted = current_date_time.strftime('%Y-%m-%d')\n",
    "current_time_formatted = current_date_time.strftime('%H:%M:%S')\n",
    "\n",
    "name=data['name']\n",
    "country=data['sys']['country']\n",
    "temp_kelvin=data['main']['temp']\n",
    "temp_celsius=kelvin_to_celsius(temp_kelvin)\n",
    "feels_like_kelvin=data['main']['feels_like']\n",
    "feels_like_celsius=kelvin_to_celsius(feels_like_kelvin)\n",
    "wind_speed=data['wind']['speed']\n",
    "humidity=data['main']['humidity']\n",
    "description=data['weather'][0]['description']\n",
    "\n",
    "sunrise_time=dt.datetime.utcfromtimestamp(data['sys']['sunrise']+data['timezone'])\n",
    "sunrise_formatted_time = sunrise_time.strftime('%H:%M:%S')\n",
    "sunset_time=dt.datetime.utcfromtimestamp(data['sys']['sunset']+data['timezone'])\n",
    "sunset_formatted_time = sunset_time.strftime('%H:%M:%S')"
   ]
  },
  {
   "cell_type": "markdown",
   "id": "491e81a0",
   "metadata": {},
   "source": [
    "Building a data dictionary w/ relevant columns and converting it to a pandas dataframe"
   ]
  },
  {
   "cell_type": "code",
   "execution_count": 8,
   "id": "5e471235",
   "metadata": {},
   "outputs": [
    {
     "name": "stdout",
     "output_type": "stream",
     "text": [
      "   Query Date Query Time City Name Country  Temperature (C)  Feels Like (C)  \\\n",
      "0  2023-08-11   17:49:56    Ottawa      CA            23.18           23.07   \n",
      "\n",
      "   Wind Speed(m/s)  Humidity (%)       Description Sunrise Time Sunset Time  \n",
      "0             5.66            58  scattered clouds     05:58:32    20:17:40  \n"
     ]
    }
   ],
   "source": [
    "data_dict = {\n",
    "    'Query Date': [current_date_formatted],\n",
    "    'Query Time': [current_time_formatted],\n",
    "    'City Name':[name],\n",
    "    'Country':[country],\n",
    "    'Temperature (C)': [temp_celsius],\n",
    "    'Feels Like (C)': [feels_like_celsius],\n",
    "    'Wind Speed(m/s)': [wind_speed],\n",
    "    'Humidity (%)': [humidity],\n",
    "    'Description': [description],\n",
    "    'Sunrise Time': [sunrise_formatted_time],\n",
    "    'Sunset Time': [sunset_formatted_time]\n",
    "}\n",
    "\n",
    "df = pd.DataFrame(data_dict)\n",
    "print(df)"
   ]
  },
  {
   "cell_type": "code",
   "execution_count": 9,
   "id": "7c84201e",
   "metadata": {},
   "outputs": [],
   "source": [
    "my_db_secret = {\n",
    "    'drivername' : 'postgresql+psycopg2',\n",
    "    'host'       : 'mmai5100postgres.canadacentral.cloudapp.azure.com',\n",
    "    'port'       : '5432',\n",
    "    'username'   : 'nashaatk',\n",
    "    'password'   : '2023!Schulich',\n",
    "    'database'   : 'nashaatk_db'\n",
    "}"
   ]
  },
  {
   "cell_type": "code",
   "execution_count": 10,
   "id": "90c62cbd",
   "metadata": {},
   "outputs": [],
   "source": [
    "my_db_url = sa.engine.URL.create(\n",
    "    drivername = my_db_secret['drivername'],\n",
    "    username   = my_db_secret['username'],\n",
    "    password   = my_db_secret['password'],\n",
    "    host       = my_db_secret['host'],\n",
    "    port       = my_db_secret['port'],\n",
    "    database   = my_db_secret['database']\n",
    ")"
   ]
  },
  {
   "cell_type": "code",
   "execution_count": 11,
   "id": "e4d7f5ca",
   "metadata": {},
   "outputs": [],
   "source": [
    "my_db_engine = sa.create_engine(my_db_url)"
   ]
  },
  {
   "cell_type": "markdown",
   "id": "a347e4dc",
   "metadata": {},
   "source": [
    "Pushing the info into sql database"
   ]
  },
  {
   "cell_type": "code",
   "execution_count": 12,
   "id": "bc6049b1",
   "metadata": {},
   "outputs": [],
   "source": [
    "df.to_sql(\n",
    "    name = 'current_weather',\n",
    "    schema = 'mmai_is_cool',\n",
    "    con = my_db_engine,\n",
    "    if_exists = 'append',\n",
    "    index=False,\n",
    "    method='multi',\n",
    "    dtype= {\n",
    "        'Query Date': sa.types.DATE,\n",
    "        'Query Time':sa.types.TIME,\n",
    "        'City Name':sa.types.VARCHAR(225),\n",
    "        'Country':sa.types.VARCHAR(225),\n",
    "        'Temperature (C)': sa.types.DECIMAL(5,2),\n",
    "        'Feels Like (C)': sa.types.DECIMAL(5,2),\n",
    "        'Wind Speed(m/s)': sa.types.DECIMAL(6,2),\n",
    "        'Humidity (%)': sa.types.DECIMAL(4,1),\n",
    "        'Description': sa.types.VARCHAR(225),\n",
    "        'Sunrise Time': sa.types.TIME,\n",
    "        'Sunset Time': sa.types.TIME,\n",
    "        \n",
    "    }   \n",
    ")"
   ]
  }
 ],
 "metadata": {
  "kernelspec": {
   "display_name": "Python 3",
   "language": "python",
   "name": "python3"
  },
  "language_info": {
   "codemirror_mode": {
    "name": "ipython",
    "version": 3
   },
   "file_extension": ".py",
   "mimetype": "text/x-python",
   "name": "python",
   "nbconvert_exporter": "python",
   "pygments_lexer": "ipython3",
   "version": "3.6.8"
  }
 },
 "nbformat": 4,
 "nbformat_minor": 5
}
